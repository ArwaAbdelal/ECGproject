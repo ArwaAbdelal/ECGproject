{
 "cells": [
  {
   "cell_type": "code",
   "execution_count": 1,
   "metadata": {},
   "outputs": [],
   "source": [
    "import cv2\n",
    "import pandas as pd\n",
    "import numpy as np\n"
   ]
  },
  {
   "cell_type": "code",
   "execution_count": 2,
   "metadata": {},
   "outputs": [],
   "source": [
    "# Function to preprocess the input image\n",
    "def preprocess_image(image_path):\n",
    "    # Load the image\n",
    "    img = cv2.imread(image_path, cv2.IMREAD_GRAYSCALE)\n",
    "    # Resize the image to match the input size of your model\n",
    "    resized_img = cv2.resize(img, (187, 1))\n",
    "    # Normalize the pixel values (assuming your model expects normalized inputs)\n",
    "    normalized_img = resized_img / 255.0\n",
    "    # Flatten the image array\n",
    "    flattened_img = normalized_img.flatten()\n",
    "    return flattened_img\n",
    "    \n",
    "    # Function to convert image to CSV\n",
    "def image_to_csv(image_path, csv_path):\n",
    "    # Preprocess the image\n",
    "    features = preprocess_image(image_path)\n",
    "    # Convert features to DataFrame\n",
    "    df = pd.DataFrame([features])\n",
    "    # Save DataFrame to CSV\n",
    "    df.to_csv(csv_path, index=False, header=False)\n",
    " # Example usage:\n",
    "image_path = \"./imageToTest/class2.png\"\n",
    "csv_path = \"output_features.csv\"\n",
    "image_to_csv(image_path, csv_path)"
   ]
  },
  {
   "cell_type": "code",
   "execution_count": 3,
   "metadata": {},
   "outputs": [
    {
     "name": "stderr",
     "output_type": "stream",
     "text": [
      "WARNING:absl:Compiled the loaded model, but the compiled metrics have yet to be built. `model.compile_metrics` will be empty until you train or evaluate the model.\n"
     ]
    },
    {
     "name": "stdout",
     "output_type": "stream",
     "text": [
      "\u001b[1m1/1\u001b[0m \u001b[32m━━━━━━━━━━━━━━━━━━━━\u001b[0m\u001b[37m\u001b[0m \u001b[1m0s\u001b[0m 203ms/step\n",
      "Predicted class: [2]\n"
     ]
    }
   ],
   "source": [
    "import tensorflow as tf\n",
    "# Load your trained model\n",
    "model = tf.keras.models.load_model('./my_model.h5')\n",
    "\n",
    "# Function to predict using the trained model\n",
    "def predict_from_csv(csv_path):\n",
    "    # Load CSV file\n",
    "    df = pd.read_csv(csv_path, header=None)\n",
    "    # Convert to numpy array\n",
    "    features = df.to_numpy()\n",
    "    # Reshape features to match input shape expected by the model\n",
    "    features = np.reshape(features, (features.shape[0], features.shape[1], 1))\n",
    "    # Predict\n",
    "    pred = model.predict(features)\n",
    "    pred_after_softmax = tf.nn.softmax(pred)\n",
    "    pred_after_softmax = pred_after_softmax.numpy()\n",
    "    pred_class = np.argmax(pred_after_softmax, axis=1)\n",
    "    return pred_class\n",
    "# Predict from CSV\n",
    "predicted_class = predict_from_csv(csv_path)\n",
    "print(\"Predicted class:\", predicted_class)"
   ]
  }
 ],
 "metadata": {
  "kernelspec": {
   "display_name": "Python 3",
   "language": "python",
   "name": "python3"
  },
  "language_info": {
   "codemirror_mode": {
    "name": "ipython",
    "version": 3
   },
   "file_extension": ".py",
   "mimetype": "text/x-python",
   "name": "python",
   "nbconvert_exporter": "python",
   "pygments_lexer": "ipython3",
   "version": "3.12.2"
  }
 },
 "nbformat": 4,
 "nbformat_minor": 2
}
